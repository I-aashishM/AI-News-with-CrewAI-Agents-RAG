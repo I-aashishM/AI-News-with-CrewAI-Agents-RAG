{
  "cells": [
    {
      "cell_type": "code",
      "source": [
        "!pip install crewai langchain-community langchain-openai langchain-google-genai requests duckduckgo-search lancedb -q"
      ],
      "metadata": {
        "colab": {
          "base_uri": "https://localhost:8080/"
        },
        "id": "36cdfXCumXRH",
        "outputId": "69c70207-7087-4d04-bbaf-cb43b43f93d0"
      },
      "id": "36cdfXCumXRH",
      "execution_count": 2,
      "outputs": [
        {
          "output_type": "stream",
          "name": "stdout",
          "text": [
            "\u001b[2K     \u001b[90m━━━━━━━━━━━━━━━━━━━━━━━━━━━━━━━━━━━━━━━━\u001b[0m \u001b[32m50.4/50.4 kB\u001b[0m \u001b[31m3.3 MB/s\u001b[0m eta \u001b[36m0:00:00\u001b[0m\n",
            "\u001b[2K     \u001b[90m━━━━━━━━━━━━━━━━━━━━━━━━━━━━━━━━━━━━━━━━\u001b[0m \u001b[32m67.3/67.3 kB\u001b[0m \u001b[31m4.3 MB/s\u001b[0m eta \u001b[36m0:00:00\u001b[0m\n",
            "\u001b[?25h  Installing build dependencies ... \u001b[?25l\u001b[?25hdone\n",
            "  Getting requirements to build wheel ... \u001b[?25l\u001b[?25hdone\n",
            "  Preparing metadata (pyproject.toml) ... \u001b[?25l\u001b[?25hdone\n",
            "\u001b[2K   \u001b[90m━━━━━━━━━━━━━━━━━━━━━━━━━━━━━━━━━━━━━━━━\u001b[0m \u001b[32m180.8/180.8 kB\u001b[0m \u001b[31m11.2 MB/s\u001b[0m eta \u001b[36m0:00:00\u001b[0m\n",
            "\u001b[2K   \u001b[90m━━━━━━━━━━━━━━━━━━━━━━━━━━━━━━━━━━━━━━━━\u001b[0m \u001b[32m50.2/50.2 kB\u001b[0m \u001b[31m3.1 MB/s\u001b[0m eta \u001b[36m0:00:00\u001b[0m\n",
            "\u001b[2K   \u001b[90m━━━━━━━━━━━━━━━━━━━━━━━━━━━━━━━━━━━━━━━━\u001b[0m \u001b[32m2.3/2.3 MB\u001b[0m \u001b[31m50.6 MB/s\u001b[0m eta \u001b[36m0:00:00\u001b[0m\n",
            "\u001b[2K   \u001b[90m━━━━━━━━━━━━━━━━━━━━━━━━━━━━━━━━━━━━━━━━\u001b[0m \u001b[32m51.5/51.5 kB\u001b[0m \u001b[31m3.4 MB/s\u001b[0m eta \u001b[36m0:00:00\u001b[0m\n",
            "\u001b[2K   \u001b[90m━━━━━━━━━━━━━━━━━━━━━━━━━━━━━━━━━━━━━━━━\u001b[0m \u001b[32m27.0/27.0 MB\u001b[0m \u001b[31m44.0 MB/s\u001b[0m eta \u001b[36m0:00:00\u001b[0m\n",
            "\u001b[2K   \u001b[90m━━━━━━━━━━━━━━━━━━━━━━━━━━━━━━━━━━━━━━━━\u001b[0m \u001b[32m30.0/30.0 MB\u001b[0m \u001b[31m17.6 MB/s\u001b[0m eta \u001b[36m0:00:00\u001b[0m\n",
            "\u001b[2K   \u001b[90m━━━━━━━━━━━━━━━━━━━━━━━━━━━━━━━━━━━━━━━━\u001b[0m \u001b[32m131.8/131.8 kB\u001b[0m \u001b[31m7.7 MB/s\u001b[0m eta \u001b[36m0:00:00\u001b[0m\n",
            "\u001b[2K   \u001b[90m━━━━━━━━━━━━━━━━━━━━━━━━━━━━━━━━━━━━━━━━\u001b[0m \u001b[32m210.9/210.9 kB\u001b[0m \u001b[31m12.1 MB/s\u001b[0m eta \u001b[36m0:00:00\u001b[0m\n",
            "\u001b[2K   \u001b[90m━━━━━━━━━━━━━━━━━━━━━━━━━━━━━━━━━━━━━━━━\u001b[0m \u001b[32m1.0/1.0 MB\u001b[0m \u001b[31m35.1 MB/s\u001b[0m eta \u001b[36m0:00:00\u001b[0m\n",
            "\u001b[2K   \u001b[90m━━━━━━━━━━━━━━━━━━━━━━━━━━━━━━━━━━━━━━━━\u001b[0m \u001b[32m397.0/397.0 kB\u001b[0m \u001b[31m15.6 MB/s\u001b[0m eta \u001b[36m0:00:00\u001b[0m\n",
            "\u001b[2K   \u001b[90m━━━━━━━━━━━━━━━━━━━━━━━━━━━━━━━━━━━━━━━━\u001b[0m \u001b[32m295.8/295.8 kB\u001b[0m \u001b[31m12.9 MB/s\u001b[0m eta \u001b[36m0:00:00\u001b[0m\n",
            "\u001b[2K   \u001b[90m━━━━━━━━━━━━━━━━━━━━━━━━━━━━━━━━━━━━━━━━\u001b[0m \u001b[32m6.3/6.3 MB\u001b[0m \u001b[31m59.8 MB/s\u001b[0m eta \u001b[36m0:00:00\u001b[0m\n",
            "\u001b[2K   \u001b[90m━━━━━━━━━━━━━━━━━━━━━━━━━━━━━━━━━━━━━━━━\u001b[0m \u001b[32m383.7/383.7 kB\u001b[0m \u001b[31m19.4 MB/s\u001b[0m eta \u001b[36m0:00:00\u001b[0m\n",
            "\u001b[2K   \u001b[90m━━━━━━━━━━━━━━━━━━━━━━━━━━━━━━━━━━━━━━━━\u001b[0m \u001b[32m64.0/64.0 kB\u001b[0m \u001b[31m3.1 MB/s\u001b[0m eta \u001b[36m0:00:00\u001b[0m\n",
            "\u001b[2K   \u001b[90m━━━━━━━━━━━━━━━━━━━━━━━━━━━━━━━━━━━━━━━━\u001b[0m \u001b[32m52.5/52.5 kB\u001b[0m \u001b[31m3.4 MB/s\u001b[0m eta \u001b[36m0:00:00\u001b[0m\n",
            "\u001b[2K   \u001b[90m━━━━━━━━━━━━━━━━━━━━━━━━━━━━━━━━━━━━━━━━\u001b[0m \u001b[32m110.5/110.5 kB\u001b[0m \u001b[31m7.2 MB/s\u001b[0m eta \u001b[36m0:00:00\u001b[0m\n",
            "\u001b[2K   \u001b[90m━━━━━━━━━━━━━━━━━━━━━━━━━━━━━━━━━━━━━━━━\u001b[0m \u001b[32m149.7/149.7 kB\u001b[0m \u001b[31m9.7 MB/s\u001b[0m eta \u001b[36m0:00:00\u001b[0m\n",
            "\u001b[2K   \u001b[90m━━━━━━━━━━━━━━━━━━━━━━━━━━━━━━━━━━━━━━━━\u001b[0m \u001b[32m249.9/249.9 kB\u001b[0m \u001b[31m16.5 MB/s\u001b[0m eta \u001b[36m0:00:00\u001b[0m\n",
            "\u001b[2K   \u001b[90m━━━━━━━━━━━━━━━━━━━━━━━━━━━━━━━━━━━━━━━━\u001b[0m \u001b[32m309.5/309.5 kB\u001b[0m \u001b[31m19.4 MB/s\u001b[0m eta \u001b[36m0:00:00\u001b[0m\n",
            "\u001b[2K   \u001b[90m━━━━━━━━━━━━━━━━━━━━━━━━━━━━━━━━━━━━━━━━\u001b[0m \u001b[32m3.0/3.0 MB\u001b[0m \u001b[31m70.7 MB/s\u001b[0m eta \u001b[36m0:00:00\u001b[0m\n",
            "\u001b[2K   \u001b[90m━━━━━━━━━━━━━━━━━━━━━━━━━━━━━━━━━━━━━━━━\u001b[0m \u001b[32m756.0/756.0 kB\u001b[0m \u001b[31m37.0 MB/s\u001b[0m eta \u001b[36m0:00:00\u001b[0m\n",
            "\u001b[2K   \u001b[90m━━━━━━━━━━━━━━━━━━━━━━━━━━━━━━━━━━━━━━━━\u001b[0m \u001b[32m1.1/1.1 MB\u001b[0m \u001b[31m43.1 MB/s\u001b[0m eta \u001b[36m0:00:00\u001b[0m\n",
            "\u001b[2K   \u001b[90m━━━━━━━━━━━━━━━━━━━━━━━━━━━━━━━━━━━━━━━━\u001b[0m \u001b[32m233.2/233.2 kB\u001b[0m \u001b[31m16.1 MB/s\u001b[0m eta \u001b[36m0:00:00\u001b[0m\n",
            "\u001b[2K   \u001b[90m━━━━━━━━━━━━━━━━━━━━━━━━━━━━━━━━━━━━━━━━\u001b[0m \u001b[32m525.5/525.5 kB\u001b[0m \u001b[31m28.1 MB/s\u001b[0m eta \u001b[36m0:00:00\u001b[0m\n",
            "\u001b[2K   \u001b[90m━━━━━━━━━━━━━━━━━━━━━━━━━━━━━━━━━━━━━━━━\u001b[0m \u001b[32m2.4/2.4 MB\u001b[0m \u001b[31m63.6 MB/s\u001b[0m eta \u001b[36m0:00:00\u001b[0m\n",
            "\u001b[2K   \u001b[90m━━━━━━━━━━━━━━━━━━━━━━━━━━━━━━━━━━━━━━━━\u001b[0m \u001b[32m78.7/78.7 kB\u001b[0m \u001b[31m5.3 MB/s\u001b[0m eta \u001b[36m0:00:00\u001b[0m\n",
            "\u001b[2K   \u001b[90m━━━━━━━━━━━━━━━━━━━━━━━━━━━━━━━━━━━━━━━━\u001b[0m \u001b[32m249.2/249.2 kB\u001b[0m \u001b[31m16.5 MB/s\u001b[0m eta \u001b[36m0:00:00\u001b[0m\n",
            "\u001b[2K   \u001b[90m━━━━━━━━━━━━━━━━━━━━━━━━━━━━━━━━━━━━━━━━\u001b[0m \u001b[32m514.7/514.7 kB\u001b[0m \u001b[31m30.2 MB/s\u001b[0m eta \u001b[36m0:00:00\u001b[0m\n",
            "\u001b[2K   \u001b[90m━━━━━━━━━━━━━━━━━━━━━━━━━━━━━━━━━━━━━━━━\u001b[0m \u001b[32m131.6/131.6 kB\u001b[0m \u001b[31m8.6 MB/s\u001b[0m eta \u001b[36m0:00:00\u001b[0m\n",
            "\u001b[2K   \u001b[90m━━━━━━━━━━━━━━━━━━━━━━━━━━━━━━━━━━━━━━━━\u001b[0m \u001b[32m76.4/76.4 kB\u001b[0m \u001b[31m5.0 MB/s\u001b[0m eta \u001b[36m0:00:00\u001b[0m\n",
            "\u001b[2K   \u001b[90m━━━━━━━━━━━━━━━━━━━━━━━━━━━━━━━━━━━━━━━━\u001b[0m \u001b[32m78.0/78.0 kB\u001b[0m \u001b[31m5.4 MB/s\u001b[0m eta \u001b[36m0:00:00\u001b[0m\n",
            "\u001b[2K   \u001b[90m━━━━━━━━━━━━━━━━━━━━━━━━━━━━━━━━━━━━━━━━\u001b[0m \u001b[32m453.8/453.8 kB\u001b[0m \u001b[31m23.6 MB/s\u001b[0m eta \u001b[36m0:00:00\u001b[0m\n",
            "\u001b[2K   \u001b[90m━━━━━━━━━━━━━━━━━━━━━━━━━━━━━━━━━━━━━━━━\u001b[0m \u001b[32m327.6/327.6 kB\u001b[0m \u001b[31m19.4 MB/s\u001b[0m eta \u001b[36m0:00:00\u001b[0m\n",
            "\u001b[2K   \u001b[90m━━━━━━━━━━━━━━━━━━━━━━━━━━━━━━━━━━━━━━━━\u001b[0m \u001b[32m49.3/49.3 kB\u001b[0m \u001b[31m2.8 MB/s\u001b[0m eta \u001b[36m0:00:00\u001b[0m\n",
            "\u001b[2K   \u001b[90m━━━━━━━━━━━━━━━━━━━━━━━━━━━━━━━━━━━━━━━━\u001b[0m \u001b[32m73.3/73.3 kB\u001b[0m \u001b[31m5.0 MB/s\u001b[0m eta \u001b[36m0:00:00\u001b[0m\n",
            "\u001b[2K   \u001b[90m━━━━━━━━━━━━━━━━━━━━━━━━━━━━━━━━━━━━━━━━\u001b[0m \u001b[32m141.9/141.9 kB\u001b[0m \u001b[31m9.1 MB/s\u001b[0m eta \u001b[36m0:00:00\u001b[0m\n",
            "\u001b[2K   \u001b[90m━━━━━━━━━━━━━━━━━━━━━━━━━━━━━━━━━━━━━━━━\u001b[0m \u001b[32m54.4/54.4 kB\u001b[0m \u001b[31m3.4 MB/s\u001b[0m eta \u001b[36m0:00:00\u001b[0m\n",
            "\u001b[2K   \u001b[90m━━━━━━━━━━━━━━━━━━━━━━━━━━━━━━━━━━━━━━━━\u001b[0m \u001b[32m98.7/98.7 kB\u001b[0m \u001b[31m5.9 MB/s\u001b[0m eta \u001b[36m0:00:00\u001b[0m\n",
            "\u001b[2K   \u001b[90m━━━━━━━━━━━━━━━━━━━━━━━━━━━━━━━━━━━━━━━━\u001b[0m \u001b[32m295.8/295.8 kB\u001b[0m \u001b[31m17.1 MB/s\u001b[0m eta \u001b[36m0:00:00\u001b[0m\n",
            "\u001b[2K   \u001b[90m━━━━━━━━━━━━━━━━━━━━━━━━━━━━━━━━━━━━━━━━\u001b[0m \u001b[32m71.1/71.1 kB\u001b[0m \u001b[31m4.9 MB/s\u001b[0m eta \u001b[36m0:00:00\u001b[0m\n",
            "\u001b[2K   \u001b[90m━━━━━━━━━━━━━━━━━━━━━━━━━━━━━━━━━━━━━━━━\u001b[0m \u001b[32m54.5/54.5 kB\u001b[0m \u001b[31m3.5 MB/s\u001b[0m eta \u001b[36m0:00:00\u001b[0m\n",
            "\u001b[2K   \u001b[90m━━━━━━━━━━━━━━━━━━━━━━━━━━━━━━━━━━━━━━━━\u001b[0m \u001b[32m6.0/6.0 MB\u001b[0m \u001b[31m76.7 MB/s\u001b[0m eta \u001b[36m0:00:00\u001b[0m\n",
            "\u001b[2K   \u001b[90m━━━━━━━━━━━━━━━━━━━━━━━━━━━━━━━━━━━━━━━━\u001b[0m \u001b[32m273.8/273.8 kB\u001b[0m \u001b[31m14.6 MB/s\u001b[0m eta \u001b[36m0:00:00\u001b[0m\n",
            "\u001b[2K   \u001b[90m━━━━━━━━━━━━━━━━━━━━━━━━━━━━━━━━━━━━━━━━\u001b[0m \u001b[32m139.2/139.2 kB\u001b[0m \u001b[31m8.8 MB/s\u001b[0m eta \u001b[36m0:00:00\u001b[0m\n",
            "\u001b[2K   \u001b[90m━━━━━━━━━━━━━━━━━━━━━━━━━━━━━━━━━━━━━━━━\u001b[0m \u001b[32m469.0/469.0 kB\u001b[0m \u001b[31m26.1 MB/s\u001b[0m eta \u001b[36m0:00:00\u001b[0m\n",
            "\u001b[2K   \u001b[90m━━━━━━━━━━━━━━━━━━━━━━━━━━━━━━━━━━━━━━━━\u001b[0m \u001b[32m94.7/94.7 kB\u001b[0m \u001b[31m5.9 MB/s\u001b[0m eta \u001b[36m0:00:00\u001b[0m\n",
            "\u001b[2K   \u001b[90m━━━━━━━━━━━━━━━━━━━━━━━━━━━━━━━━━━━━━━━━\u001b[0m \u001b[32m3.1/3.1 MB\u001b[0m \u001b[31m71.3 MB/s\u001b[0m eta \u001b[36m0:00:00\u001b[0m\n",
            "\u001b[2K   \u001b[90m━━━━━━━━━━━━━━━━━━━━━━━━━━━━━━━━━━━━━━━━\u001b[0m \u001b[32m1.6/1.6 MB\u001b[0m \u001b[31m55.5 MB/s\u001b[0m eta \u001b[36m0:00:00\u001b[0m\n",
            "\u001b[2K   \u001b[90m━━━━━━━━━━━━━━━━━━━━━━━━━━━━━━━━━━━━━━━━\u001b[0m \u001b[32m1.9/1.9 MB\u001b[0m \u001b[31m59.5 MB/s\u001b[0m eta \u001b[36m0:00:00\u001b[0m\n",
            "\u001b[2K   \u001b[90m━━━━━━━━━━━━━━━━━━━━━━━━━━━━━━━━━━━━━━━━\u001b[0m \u001b[32m207.2/207.2 kB\u001b[0m \u001b[31m13.0 MB/s\u001b[0m eta \u001b[36m0:00:00\u001b[0m\n",
            "\u001b[2K   \u001b[90m━━━━━━━━━━━━━━━━━━━━━━━━━━━━━━━━━━━━━━━━\u001b[0m \u001b[32m93.2/93.2 kB\u001b[0m \u001b[31m5.4 MB/s\u001b[0m eta \u001b[36m0:00:00\u001b[0m\n",
            "\u001b[2K   \u001b[90m━━━━━━━━━━━━━━━━━━━━━━━━━━━━━━━━━━━━━━━━\u001b[0m \u001b[32m296.6/296.6 kB\u001b[0m \u001b[31m19.3 MB/s\u001b[0m eta \u001b[36m0:00:00\u001b[0m\n",
            "\u001b[2K   \u001b[90m━━━━━━━━━━━━━━━━━━━━━━━━━━━━━━━━━━━━━━━━\u001b[0m \u001b[32m13.2/13.2 MB\u001b[0m \u001b[31m70.6 MB/s\u001b[0m eta \u001b[36m0:00:00\u001b[0m\n",
            "\u001b[2K   \u001b[90m━━━━━━━━━━━━━━━━━━━━━━━━━━━━━━━━━━━━━━━━\u001b[0m \u001b[32m5.4/5.4 MB\u001b[0m \u001b[31m84.1 MB/s\u001b[0m eta \u001b[36m0:00:00\u001b[0m\n",
            "\u001b[2K   \u001b[90m━━━━━━━━━━━━━━━━━━━━━━━━━━━━━━━━━━━━━━━━\u001b[0m \u001b[32m266.4/266.4 kB\u001b[0m \u001b[31m15.7 MB/s\u001b[0m eta \u001b[36m0:00:00\u001b[0m\n",
            "\u001b[2K   \u001b[90m━━━━━━━━━━━━━━━━━━━━━━━━━━━━━━━━━━━━━━━━\u001b[0m \u001b[32m3.1/3.1 MB\u001b[0m \u001b[31m63.9 MB/s\u001b[0m eta \u001b[36m0:00:00\u001b[0m\n",
            "\u001b[2K   \u001b[90m━━━━━━━━━━━━━━━━━━━━━━━━━━━━━━━━━━━━━━━━\u001b[0m \u001b[32m1.6/1.6 MB\u001b[0m \u001b[31m58.9 MB/s\u001b[0m eta \u001b[36m0:00:00\u001b[0m\n",
            "\u001b[2K   \u001b[90m━━━━━━━━━━━━━━━━━━━━━━━━━━━━━━━━━━━━━━━━\u001b[0m \u001b[32m60.8/60.8 kB\u001b[0m \u001b[31m3.5 MB/s\u001b[0m eta \u001b[36m0:00:00\u001b[0m\n",
            "\u001b[2K   \u001b[90m━━━━━━━━━━━━━━━━━━━━━━━━━━━━━━━━━━━━━━━━\u001b[0m \u001b[32m63.7/63.7 kB\u001b[0m \u001b[31m4.3 MB/s\u001b[0m eta \u001b[36m0:00:00\u001b[0m\n",
            "\u001b[2K   \u001b[90m━━━━━━━━━━━━━━━━━━━━━━━━━━━━━━━━━━━━━━━━\u001b[0m \u001b[32m78.6/78.6 kB\u001b[0m \u001b[31m5.3 MB/s\u001b[0m eta \u001b[36m0:00:00\u001b[0m\n",
            "\u001b[2K   \u001b[90m━━━━━━━━━━━━━━━━━━━━━━━━━━━━━━━━━━━━━━━━\u001b[0m \u001b[32m12.6/12.6 MB\u001b[0m \u001b[31m20.0 MB/s\u001b[0m eta \u001b[36m0:00:00\u001b[0m\n",
            "\u001b[2K   \u001b[90m━━━━━━━━━━━━━━━━━━━━━━━━━━━━━━━━━━━━━━━━\u001b[0m \u001b[32m2.8/2.8 MB\u001b[0m \u001b[31m64.8 MB/s\u001b[0m eta \u001b[36m0:00:00\u001b[0m\n",
            "\u001b[2K   \u001b[90m━━━━━━━━━━━━━━━━━━━━━━━━━━━━━━━━━━━━━━━━\u001b[0m \u001b[32m294.6/294.6 kB\u001b[0m \u001b[31m15.2 MB/s\u001b[0m eta \u001b[36m0:00:00\u001b[0m\n",
            "\u001b[2K   \u001b[90m━━━━━━━━━━━━━━━━━━━━━━━━━━━━━━━━━━━━━━━━\u001b[0m \u001b[32m58.3/58.3 kB\u001b[0m \u001b[31m3.6 MB/s\u001b[0m eta \u001b[36m0:00:00\u001b[0m\n",
            "\u001b[2K   \u001b[90m━━━━━━━━━━━━━━━━━━━━━━━━━━━━━━━━━━━━━━━━\u001b[0m \u001b[32m442.1/442.1 kB\u001b[0m \u001b[31m24.9 MB/s\u001b[0m eta \u001b[36m0:00:00\u001b[0m\n",
            "\u001b[2K   \u001b[90m━━━━━━━━━━━━━━━━━━━━━━━━━━━━━━━━━━━━━━━━\u001b[0m \u001b[32m82.6/82.6 kB\u001b[0m \u001b[31m4.5 MB/s\u001b[0m eta \u001b[36m0:00:00\u001b[0m\n",
            "\u001b[2K   \u001b[90m━━━━━━━━━━━━━━━━━━━━━━━━━━━━━━━━━━━━━━━━\u001b[0m \u001b[32m388.4/388.4 kB\u001b[0m \u001b[31m21.1 MB/s\u001b[0m eta \u001b[36m0:00:00\u001b[0m\n",
            "\u001b[2K   \u001b[90m━━━━━━━━━━━━━━━━━━━━━━━━━━━━━━━━━━━━━━━━\u001b[0m \u001b[32m73.3/73.3 kB\u001b[0m \u001b[31m4.4 MB/s\u001b[0m eta \u001b[36m0:00:00\u001b[0m\n",
            "\u001b[2K   \u001b[90m━━━━━━━━━━━━━━━━━━━━━━━━━━━━━━━━━━━━━━━━\u001b[0m \u001b[32m3.8/3.8 MB\u001b[0m \u001b[31m74.5 MB/s\u001b[0m eta \u001b[36m0:00:00\u001b[0m\n",
            "\u001b[2K   \u001b[90m━━━━━━━━━━━━━━━━━━━━━━━━━━━━━━━━━━━━━━━━\u001b[0m \u001b[32m425.7/425.7 kB\u001b[0m \u001b[31m20.3 MB/s\u001b[0m eta \u001b[36m0:00:00\u001b[0m\n",
            "\u001b[2K   \u001b[90m━━━━━━━━━━━━━━━━━━━━━━━━━━━━━━━━━━━━━━━━\u001b[0m \u001b[32m164.1/164.1 kB\u001b[0m \u001b[31m8.8 MB/s\u001b[0m eta \u001b[36m0:00:00\u001b[0m\n",
            "\u001b[2K   \u001b[90m━━━━━━━━━━━━━━━━━━━━━━━━━━━━━━━━━━━━━━━━\u001b[0m \u001b[32m46.0/46.0 kB\u001b[0m \u001b[31m2.6 MB/s\u001b[0m eta \u001b[36m0:00:00\u001b[0m\n",
            "\u001b[2K   \u001b[90m━━━━━━━━━━━━━━━━━━━━━━━━━━━━━━━━━━━━━━━━\u001b[0m \u001b[32m147.8/147.8 kB\u001b[0m \u001b[31m9.7 MB/s\u001b[0m eta \u001b[36m0:00:00\u001b[0m\n",
            "\u001b[2K   \u001b[90m━━━━━━━━━━━━━━━━━━━━━━━━━━━━━━━━━━━━━━━━\u001b[0m \u001b[32m82.1/82.1 kB\u001b[0m \u001b[31m5.0 MB/s\u001b[0m eta \u001b[36m0:00:00\u001b[0m\n",
            "\u001b[2K   \u001b[90m━━━━━━━━━━━━━━━━━━━━━━━━━━━━━━━━━━━━━━━━\u001b[0m \u001b[32m119.4/119.4 kB\u001b[0m \u001b[31m8.4 MB/s\u001b[0m eta \u001b[36m0:00:00\u001b[0m\n",
            "\u001b[2K   \u001b[90m━━━━━━━━━━━━━━━━━━━━━━━━━━━━━━━━━━━━━━━━\u001b[0m \u001b[32m57.5/57.5 kB\u001b[0m \u001b[31m3.5 MB/s\u001b[0m eta \u001b[36m0:00:00\u001b[0m\n",
            "\u001b[2K   \u001b[90m━━━━━━━━━━━━━━━━━━━━━━━━━━━━━━━━━━━━━━━━\u001b[0m \u001b[32m86.8/86.8 kB\u001b[0m \u001b[31m5.8 MB/s\u001b[0m eta \u001b[36m0:00:00\u001b[0m\n",
            "\u001b[2K   \u001b[90m━━━━━━━━━━━━━━━━━━━━━━━━━━━━━━━━━━━━━━━━\u001b[0m \u001b[32m26.7/26.7 MB\u001b[0m \u001b[31m56.0 MB/s\u001b[0m eta \u001b[36m0:00:00\u001b[0m\n",
            "\u001b[2K   \u001b[90m━━━━━━━━━━━━━━━━━━━━━━━━━━━━━━━━━━━━━━━━\u001b[0m \u001b[32m5.7/5.7 MB\u001b[0m \u001b[31m79.0 MB/s\u001b[0m eta \u001b[36m0:00:00\u001b[0m\n",
            "\u001b[2K   \u001b[90m━━━━━━━━━━━━━━━━━━━━━━━━━━━━━━━━━━━━━━━━\u001b[0m \u001b[32m134.8/134.8 kB\u001b[0m \u001b[31m8.7 MB/s\u001b[0m eta \u001b[36m0:00:00\u001b[0m\n",
            "\u001b[2K   \u001b[90m━━━━━━━━━━━━━━━━━━━━━━━━━━━━━━━━━━━━━━━━\u001b[0m \u001b[32m56.8/56.8 kB\u001b[0m \u001b[31m3.9 MB/s\u001b[0m eta \u001b[36m0:00:00\u001b[0m\n",
            "\u001b[2K   \u001b[90m━━━━━━━━━━━━━━━━━━━━━━━━━━━━━━━━━━━━━━━━\u001b[0m \u001b[32m128.2/128.2 kB\u001b[0m \u001b[31m8.3 MB/s\u001b[0m eta \u001b[36m0:00:00\u001b[0m\n",
            "\u001b[2K   \u001b[90m━━━━━━━━━━━━━━━━━━━━━━━━━━━━━━━━━━━━━━━━\u001b[0m \u001b[32m85.0/85.0 kB\u001b[0m \u001b[31m5.8 MB/s\u001b[0m eta \u001b[36m0:00:00\u001b[0m\n",
            "\u001b[2K   \u001b[90m━━━━━━━━━━━━━━━━━━━━━━━━━━━━━━━━━━━━━━━━\u001b[0m \u001b[32m52.8/52.8 kB\u001b[0m \u001b[31m3.5 MB/s\u001b[0m eta \u001b[36m0:00:00\u001b[0m\n",
            "\u001b[2K   \u001b[90m━━━━━━━━━━━━━━━━━━━━━━━━━━━━━━━━━━━━━━━━\u001b[0m \u001b[32m565.6/565.6 kB\u001b[0m \u001b[31m24.9 MB/s\u001b[0m eta \u001b[36m0:00:00\u001b[0m\n",
            "\u001b[2K   \u001b[90m━━━━━━━━━━━━━━━━━━━━━━━━━━━━━━━━━━━━━━━━\u001b[0m \u001b[32m207.3/207.3 kB\u001b[0m \u001b[31m11.3 MB/s\u001b[0m eta \u001b[36m0:00:00\u001b[0m\n",
            "\u001b[2K   \u001b[90m━━━━━━━━━━━━━━━━━━━━━━━━━━━━━━━━━━━━━━━━\u001b[0m \u001b[32m203.2/203.2 kB\u001b[0m \u001b[31m12.6 MB/s\u001b[0m eta \u001b[36m0:00:00\u001b[0m\n",
            "\u001b[2K   \u001b[90m━━━━━━━━━━━━━━━━━━━━━━━━━━━━━━━━━━━━━━━━\u001b[0m \u001b[32m62.7/62.7 kB\u001b[0m \u001b[31m3.9 MB/s\u001b[0m eta \u001b[36m0:00:00\u001b[0m\n",
            "\u001b[?25h  Building wheel for pypika (pyproject.toml) ... \u001b[?25l\u001b[?25hdone\n",
            "\u001b[31mERROR: pip's dependency resolver does not currently take into account all the packages that are installed. This behaviour is the source of the following dependency conflicts.\n",
            "tensorflow-metadata 1.16.1 requires protobuf<4.21,>=3.20.3; python_version < \"3.11\", but you have protobuf 4.25.5 which is incompatible.\u001b[0m\u001b[31m\n",
            "\u001b[0m"
          ]
        }
      ]
    },
    {
      "cell_type": "code",
      "execution_count": 1,
      "id": "644a6b05-8e54-4b36-8b66-1636527fd154",
      "metadata": {
        "colab": {
          "base_uri": "https://localhost:8080/"
        },
        "id": "644a6b05-8e54-4b36-8b66-1636527fd154",
        "outputId": "e6f27910-ecaa-45f3-9a46-ef6263a4cea9"
      },
      "outputs": [
        {
          "output_type": "stream",
          "name": "stderr",
          "text": [
            "WARNING:langchain_community.utils.user_agent:USER_AGENT environment variable not set, consider setting it to identify your requests.\n"
          ]
        }
      ],
      "source": [
        "from crewai import Agent, Task, Crew, Process\n",
        "from langchain_openai import ChatOpenAI\n",
        "from langchain_google_genai import ChatGoogleGenerativeAI\n",
        "from langchain_core.retrievers import BaseRetriever\n",
        "from langchain_openai import OpenAIEmbeddings\n",
        "from langchain_community.embeddings import LlamafileEmbeddings\n",
        "from langchain.tools import tool\n",
        "from langchain_community.document_loaders import WebBaseLoader\n",
        "import requests, os\n",
        "from langchain.text_splitter import RecursiveCharacterTextSplitter\n",
        "from langchain_community.vectorstores import LanceDB\n",
        "from langchain_community.tools import DuckDuckGoSearchRun"
      ]
    },
    {
      "cell_type": "code",
      "source": [
        "os.environ[\"NEWSAPI_KEY\"] = \"ENTER YOUR KEY\""
      ],
      "metadata": {
        "id": "laSvj8L6sD2V"
      },
      "id": "laSvj8L6sD2V",
      "execution_count": 2,
      "outputs": []
    },
    {
      "cell_type": "code",
      "source": [
        "\n",
        "# @title LLM Config\n",
        "\n",
        "LLM = \"OPENAI_GPT4\"  # @param [\"OPENAI_GPT4\", \"GEMINI_PRO\"]\n",
        "API_KEY = \"sk-*************\"  # @param {type:\"string\"} ## ENTER YOU KEY"
      ],
      "metadata": {
        "id": "-mPEq_2asHHI"
      },
      "id": "-mPEq_2asHHI",
      "execution_count": 3,
      "outputs": []
    },
    {
      "cell_type": "code",
      "source": [
        "if LLM == \"OPENAI_GPT4\":\n",
        "    os.environ[\"OPENAI_API_KEY\"] = API_KEY\n",
        "    embedding_function = OpenAIEmbeddings()\n",
        "    llm = ChatOpenAI(model=\"gpt-4-turbo-preview\")\n",
        "elif LLM == \"GEMINI_PRO\":\n",
        "    os.environ[\"GOOGLE_API_KEY\"] = API_KEY\n",
        "    embeddding_function = LlamafileEmbeddings()\n",
        "    llm = ChatGoogleGenerativeAI(model=\"gemini-pro\")"
      ],
      "metadata": {
        "id": "xpGPVDcgsQLT"
      },
      "id": "xpGPVDcgsQLT",
      "execution_count": 4,
      "outputs": []
    },
    {
      "cell_type": "code",
      "source": [
        "import lancedb\n",
        "def create_lance_db_connection(db_path):\n",
        "    return lancedb.connect(db_path)\n",
        "\n",
        "# Initialize the connection to LanceDB\n",
        "db_connection = create_lance_db_connection(\"/tmp/lancedb\")\n",
        "\n",
        "# Function to index documents using LanceDB\n",
        "def index_documents(documents, embedding_function, db_connection):\n",
        "    vector_store = LanceDB.from_documents(documents, embedding=embedding_function, connection=db_connection)\n",
        "    return vector_store\n",
        "\n",
        "embedding = OpenAIEmbeddings()  # Make sure to properly define or import OpenAIEmbeddings\n",
        "emb = embedding.embed_query(\"hello_world\")\n",
        "dataset = [{\"vector\": emb, \"text\": \"dummy_text\"}]"
      ],
      "metadata": {
        "id": "2TWsvpWqrNmu"
      },
      "id": "2TWsvpWqrNmu",
      "execution_count": 5,
      "outputs": []
    },
    {
      "cell_type": "code",
      "source": [
        "class SearchNewsDB:\n",
        "    @tool(\"News DB Tool\")\n",
        "    def news(query: str):\n",
        "        \"\"\"Fetch news articles and process their contents.\"\"\"\n",
        "        API_KEY = os.getenv(\"NEWSAPI_KEY\")\n",
        "        base_url = \"https://newsapi.org/v2/top-headlines?sources=techcrunch\"\n",
        "        params = {\n",
        "            \"sortBy\": \"publishedAt\",\n",
        "            \"apiKey\": API_KEY,\n",
        "            \"language\": \"en\",\n",
        "            \"pageSize\": 15\n",
        "        }\n",
        "        response = requests.get(base_url, params=params)\n",
        "        if response.status_code != 200:\n",
        "            return \"Failed to retrieve news.\"\n",
        "\n",
        "        articles = response.json().get(\"articles\", [])\n",
        "        all_splits = []\n",
        "        for article in articles:\n",
        "            loader = WebBaseLoader(article[\"url\"])\n",
        "            docs = loader.load()\n",
        "            text_splitter = RecursiveCharacterTextSplitter(chunk_size=1000, chunk_overlap=200)\n",
        "            splits = text_splitter.split_documents(docs)\n",
        "            all_splits.extend(splits)\n",
        "\n",
        "        if all_splits:\n",
        "            vector_store = index_documents(all_splits, embedding_function, db_connection)\n",
        "            retriever = vector_store.similarity_search(query)\n",
        "            return retriever\n",
        "        else:\n",
        "            return \"No content available for processing.\""
      ],
      "metadata": {
        "id": "HKgGGRpZsYxa"
      },
      "id": "HKgGGRpZsYxa",
      "execution_count": 7,
      "outputs": []
    },
    {
      "cell_type": "code",
      "source": [
        "# Get the news articles from the database\n",
        "class GetNews:\n",
        "    @tool(\"Get News Tool\")\n",
        "    def news(query: str) -> str:\n",
        "        \"\"\"Search LanceDB for relevant news information based on a query.\"\"\"\n",
        "        vectorstore = LanceDB(embedding=embedding_function, connection=db_connection)\n",
        "\n",
        "        retriever = vectorstore.similarity_search(query)\n",
        "        return retriever"
      ],
      "metadata": {
        "id": "YjKRaBQ7sZkY"
      },
      "id": "YjKRaBQ7sZkY",
      "execution_count": 8,
      "outputs": []
    },
    {
      "cell_type": "code",
      "source": [
        "# Make sure to Install duckduckgo-search for this example\n",
        "# !pip install -U duckduckgo-search\n",
        "\n",
        "search_tool = DuckDuckGoSearchRun()"
      ],
      "metadata": {
        "id": "E968NvQBsaHa"
      },
      "id": "E968NvQBsaHa",
      "execution_count": 9,
      "outputs": []
    },
    {
      "cell_type": "code",
      "source": [
        "# Defining Search and Writer agents with roles and goals\n",
        "news_search_agent = Agent(\n",
        "    role=\"AI News Searcher\",\n",
        "    goal=\"Generate key points for each news article from the latest news\",\n",
        "    backstory=\"\"\"You work at a leading tech think tank.\n",
        "  Your expertise lies in identifying emerging trends in field of AI.\n",
        "  You have a knack for dissecting complex data and presenting\n",
        "  actionable insights.\"\"\",\n",
        "    tools=[SearchNewsDB().news],\n",
        "    allow_delegation=True,\n",
        "    verbose=True,\n",
        "    llm=llm,\n",
        ")\n",
        "\n",
        "writer_agent = Agent(\n",
        "    role=\"Writer\",\n",
        "    goal=\"Identify all the topics received. Use the Get News Tool to verify the each topic to search. Use the Search tool for detailed exploration of each topic. Summarise the retrieved information in depth for every topic.\",\n",
        "    backstory=\"\"\"You are a renowned Content Strategist, known for\n",
        "  your insightful and engaging articles.\n",
        "  You transform complex concepts into compelling narratives.\"\"\",\n",
        "    tools=[GetNews().news, search_tool],\n",
        "    allow_delegation=True,\n",
        "    verbose=True,\n",
        "    llm=llm,\n",
        ")"
      ],
      "metadata": {
        "id": "uflZCN-wsaKb"
      },
      "id": "uflZCN-wsaKb",
      "execution_count": 10,
      "outputs": []
    },
    {
      "cell_type": "code",
      "source": [
        "# Creating search and writer tasks for agents\n",
        "news_search_task = Task(\n",
        "    description=\"\"\"Conduct a comprehensive analysis of the latest advancements in AI in 2024.\n",
        "  Identify key trends, breakthrough technologies, and potential industry impacts.\n",
        "  Your final answer MUST be a full analysis report\"\"\",\n",
        "    expected_output=\"Create key points list for each news\",\n",
        "    agent=news_search_agent,\n",
        "    tools=[SearchNewsDB().news],\n",
        ")\n",
        "\n",
        "writer_task = Task(\n",
        "    description=\"\"\"Using the insights provided, summaries each post of them\n",
        "  highlights the most significant AI advancements.\n",
        "  Your post should be informative yet accessible, catering to a tech-savvy audience.\n",
        "  Make it sound cool, avoid complex words so it doesn't sound like AI.\n",
        "  Your final answer MUST not be the more than 50 words.\"\"\",\n",
        "    expected_output=\"Write a short summary under 50 words for each news Headline seperately\",\n",
        "    agent=writer_agent,\n",
        "    context=[news_search_task],\n",
        "    tools=[GetNews().news, search_tool],\n",
        ")"
      ],
      "metadata": {
        "id": "XPOFf3rRsaMm"
      },
      "id": "XPOFf3rRsaMm",
      "execution_count": 11,
      "outputs": []
    },
    {
      "cell_type": "code",
      "source": [
        "# Instantiate Crew with Agents and their tasks\n",
        "news_crew = Crew(\n",
        "    agents=[news_search_agent, writer_agent],\n",
        "    tasks=[news_search_task, writer_task],\n",
        "    process=Process.sequential,\n",
        "    manager_llm=llm,\n",
        ")"
      ],
      "metadata": {
        "id": "03VSxaZpsaPj"
      },
      "id": "03VSxaZpsaPj",
      "execution_count": 12,
      "outputs": []
    },
    {
      "cell_type": "code",
      "source": [
        "news_crew"
      ],
      "metadata": {
        "colab": {
          "base_uri": "https://localhost:8080/"
        },
        "id": "yY8_J9t3saSl",
        "outputId": "13828cac-0830-4545-f062-55f5509d48a3"
      },
      "id": "yY8_J9t3saSl",
      "execution_count": 13,
      "outputs": [
        {
          "output_type": "execute_result",
          "data": {
            "text/plain": [
              "Crew(id=c9809d2d-1437-4bfe-bba1-b0c688c2b6ac, process=sequential, number_of_agents=2, number_of_tasks=2)"
            ]
          },
          "metadata": {},
          "execution_count": 13
        }
      ]
    },
    {
      "cell_type": "code",
      "source": [
        "# Execute the crew to see RAG in action\n",
        "result = news_crew.kickoff()"
      ],
      "metadata": {
        "colab": {
          "base_uri": "https://localhost:8080/"
        },
        "id": "-RXJb1aRsaU_",
        "outputId": "63c57d68-1c0a-4228-90a3-79c010fac61b"
      },
      "id": "-RXJb1aRsaU_",
      "execution_count": 14,
      "outputs": [
        {
          "output_type": "stream",
          "name": "stdout",
          "text": [
            "\u001b[1m\u001b[95m# Agent:\u001b[00m \u001b[1m\u001b[92mAI News Searcher\u001b[00m\n",
            "\u001b[95m## Task:\u001b[00m \u001b[92mConduct a comprehensive analysis of the latest advancements in AI in 2024.\n",
            "  Identify key trends, breakthrough technologies, and potential industry impacts.\n",
            "  Your final answer MUST be a full analysis report\u001b[00m\n",
            "\n",
            "\n",
            "\u001b[1m\u001b[95m# Agent:\u001b[00m \u001b[1m\u001b[92mAI News Searcher\u001b[00m\n",
            "\u001b[95m## Using tool:\u001b[00m \u001b[92mNews DB Tool\u001b[00m\n",
            "\u001b[95m## Tool Input:\u001b[00m \u001b[92m\n",
            "\"{\\\"query\\\": \\\"AI advancements 2024\\\"}\"\u001b[00m\n",
            "\u001b[95m## Tool Output:\u001b[00m \u001b[92m\n",
            "[Document(metadata={'description': 'We’ve all seen them. The inspector with a clipboard, walking around a building, ticking off the last time the fire extinguishers were checked, or if all', 'language': 'en-US', 'source': 'https://techcrunch.com/2024/05/08/checkfirst-raises-1-5m-pre-seed-applying-ai-to-remote-inspections-and-audits/', 'title': 'Checkfirst raises $1.5M pre-seed to apply AI to remote inspections and audits | TechCrunch'}, page_content='AI\\n\\n\\nMistral releases new AI models optimized for laptops and phones\\n\\n\\n\\nKyle Wiggers\\n\\n\\n\\t9 hours ago\\n\\n\\n\\n\\n\\n\\n\\n\\n\\n\\n\\n\\n\\n\\n\\n\\n\\n\\n\\n\\n\\n\\n\\nX\\nLinkedIn\\nFacebook\\nInstagram\\nyouTube\\nMastodon\\nThreads\\n\\n\\n\\nTechCrunchStaffContact UsAdvertiseCrunchboard JobsSite Map\\nTerms of ServicePrivacy PolicyRSS Terms of UsePrivacy Placeholder 1Privacy Placeholder 2Privacy Placeholder 3Privacy Placeholder 4Code of ConductAbout Our Ads\\nMistral AIKindle ColorCybertruckBoston DynamicsHurricane HeleneTech LayoffsChatGPT\\n\\n\\n\\n© 2024 Yahoo.'), Document(metadata={'description': 'Autonomous, AI-based players are coming to a gaming experience near you, and a new startup,\\xa0Altera, is joining the fray to build this new guard of AI', 'language': 'en-US', 'source': 'https://techcrunch.com/2024/05/08/bye-bye-bots-alteras-game-playing-ai-agents-get-backing-from-eric-schmidt/', 'title': 'Bye-bye bots: Altera’s game-playing AI agents get backing from Eric Schmidt | TechCrunch'}, page_content='Bye-bye bots: Altera’s game-playing AI agents get backing from Eric Schmidt \\n\\n\\n\\n\\n\\nLauren Forristal\\n\\n\\n\\n\\n\\n8:14 AM PDT · May 8, 2024 \\n\\n\\n\\n\\n\\n\\n\\n \\n\\n\\n \\n\\n \\n\\n \\n\\n \\n\\n \\n\\n \\n\\n \\n\\n\\n\\n\\n\\n\\nAutonomous, AI-based players are coming to a gaming experience near you, and a new startup,\\xa0Altera, is joining the fray to build this new guard of AI agents.\\nThe company announced Wednesday that it raised $9 million in an oversubscribed seed round, co-led by First Spark Ventures (Eric Schmidt’s deep-tech fund) and Patron (the seed-stage fund co-founded by Riot Games alums).'), Document(metadata={'description': 'Autonomous, AI-based players are coming to a gaming experience near you, and a new startup,\\xa0Altera, is joining the fray to build this new guard of AI', 'language': 'en-US', 'source': 'https://techcrunch.com/2024/05/08/bye-bye-bots-alteras-game-playing-ai-agents-get-backing-from-eric-schmidt/', 'title': 'Bye-bye bots: Altera’s game-playing AI agents get backing from Eric Schmidt | TechCrunch'}, page_content='Kyle Wiggers\\n\\n\\n\\t7 hours ago\\n\\n\\n\\n\\n\\n\\n\\n\\n \\n\\n\\nRobotics\\n\\n\\nBoston Dynamics teams with TRI to bring AI smarts to Atlas humanoid robot\\n\\n\\n\\nBrian Heater\\n\\n\\n\\t9 hours ago\\n\\n\\n\\n\\n\\n\\n\\n\\n \\n\\n\\nAI\\n\\n\\nMistral releases new AI models optimized for laptops and phones\\n\\n\\n\\nKyle Wiggers\\n\\n\\n\\t9 hours ago\\n\\n\\n\\n\\n\\n\\n\\n\\n\\n\\n\\n\\n\\n\\n\\n\\n\\n\\n\\n\\n\\n\\n\\nX\\nLinkedIn\\nFacebook\\nInstagram\\nyouTube\\nMastodon\\nThreads\\n\\n\\n\\nTechCrunchStaffContact UsAdvertiseCrunchboard JobsSite Map\\nTerms of ServicePrivacy PolicyRSS Terms of UsePrivacy Placeholder 1Privacy Placeholder 2Privacy Placeholder 3Privacy Placeholder 4Code of ConductAbout Our Ads\\nMistral AIKindle ColorCybertruckBoston DynamicsHurricane HeleneTech LayoffsChatGPT\\n\\n\\n\\n© 2024 Yahoo.'), Document(metadata={'description': 'Google DeepMind has taken the wraps off a new version of AlphaFold, their transformative machine learning model that predicts the shape and behavior of', 'language': 'en-US', 'source': 'https://techcrunch.com/2024/05/08/google-deepmind-debuts-huge-alphafold-update-and-free-proteomics-as-a-service-web-app/', 'title': 'Google DeepMind debuts huge AlphaFold update and free proteomics-as-a-service web app | TechCrunch'}, page_content='Ingrid Lunden\\n\\n\\n\\t13 hours ago\\n\\n\\n\\n\\n\\n\\n\\n\\n \\n\\n\\nBiotech & Health\\n\\n\\nHow a medtech market opportunity is shaping up for wearable neurotech\\n\\n\\n\\nNatasha Lomas\\n\\n\\n\\t3 days ago\\n\\n\\n\\n\\n\\n\\n\\n\\n \\n\\n\\nAI\\n\\n\\n‘Where we are today in biology AI is similar to GPT in 2020’: An interview with the CEO of Africa’s biggest AI startup\\n\\n\\n\\nTage Kene-Okafor\\n\\n\\n\\t4 days ago\\n\\n\\n\\n\\n\\n\\n\\n\\n\\n\\n\\n\\n\\n\\n\\n\\n\\n\\n\\n\\n\\n\\n\\nX\\nLinkedIn\\nFacebook\\nInstagram\\nyouTube\\nMastodon\\nThreads\\n\\n\\n\\nTechCrunchStaffContact UsAdvertiseCrunchboard JobsSite Map\\nTerms of ServicePrivacy PolicyRSS Terms of UsePrivacy Placeholder 1Privacy Placeholder 2Privacy Placeholder 3Privacy Placeholder 4Code of ConductAbout Our Ads\\nMistral AIKindle ColorCybertruckBoston DynamicsHurricane HeleneTech LayoffsChatGPT\\n\\n\\n\\n© 2024 Yahoo.')]\u001b[00m\n",
            "\n",
            "\n",
            "\u001b[1m\u001b[95m# Agent:\u001b[00m \u001b[1m\u001b[92mAI News Searcher\u001b[00m\n",
            "\u001b[95m## Final Answer:\u001b[00m \u001b[92m\n",
            "After analyzing the recent articles on AI advancements in 2024, the following key points were identified:\n",
            "\n",
            "1. **Checkfirst's Application of AI in Remote Inspections and Audits**\n",
            "   - **Trend/Technology:** Checkfirst has raised $1.5 million in pre-seed funding to leverage AI for enhancing remote inspections and audits. This reflects a growing trend of applying AI to streamline and improve the efficiency of regulatory and compliance processes.\n",
            "   - **Impact:** This development could significantly impact industries requiring regular inspections and audits by reducing the time and resources needed for these activities and potentially increasing their accuracy and reliability.\n",
            "\n",
            "2. **Altera's Game-Playing AI Agents**\n",
            "   - **Trend/Technology:** Altera has introduced AI-based autonomous players into gaming, backed by Eric Schmidt and other investors, with a $9 million oversubscribed seed round. This represents an evolution in gaming AI, moving beyond static bots to more dynamic, intelligent agents.\n",
            "   - **Impact:** The gaming industry could see a revolution in how games are played and experienced, with AI agents offering new challenges and interactions. This could also spur developments in AI that could be applied in other fields, such as simulation and training.\n",
            "\n",
            "3. **Google DeepMind's AlphaFold Update**\n",
            "   - **Trend/Technology:** Google DeepMind's latest update to AlphaFold and the launch of a free proteomics-as-a-service web app marks a significant advancement in AI's role in understanding biological processes.\n",
            "   - **Impact:** This breakthrough has profound implications for the biotech and healthcare industries, potentially accelerating drug discovery and our understanding of diseases at a molecular level.\n",
            "\n",
            "These developments underscore the rapid pace at which AI is evolving and its increasing application across diverse sectors. From improving operational efficiencies in traditional industries to pushing the boundaries of entertainment and scientific research, AI's role in shaping the future is more prominent than ever.\u001b[00m\n",
            "\n",
            "\n",
            "\u001b[1m\u001b[95m# Agent:\u001b[00m \u001b[1m\u001b[92mWriter\u001b[00m\n",
            "\u001b[95m## Task:\u001b[00m \u001b[92mUsing the insights provided, summaries each post of them\n",
            "  highlights the most significant AI advancements.\n",
            "  Your post should be informative yet accessible, catering to a tech-savvy audience.\n",
            "  Make it sound cool, avoid complex words so it doesn't sound like AI.\n",
            "  Your final answer MUST not be the more than 50 words.\u001b[00m\n",
            "\n",
            "\n",
            "\u001b[1m\u001b[95m# Agent:\u001b[00m \u001b[1m\u001b[92mWriter\u001b[00m\n",
            "\u001b[95m## Final Answer:\u001b[00m \u001b[92m\n",
            "1. Checkfirst's AI transforms remote audits, making them quicker and smarter with $1.5M funding.\n",
            "2. Altera's AI players, backed by Eric Schmidt, bring $9M to redefine gaming with smarter challenges.\n",
            "3. Google DeepMind's AlphaFold unveils a game-changing update, speeding up drug discovery with its proteomics service.\u001b[00m\n",
            "\n",
            "\n"
          ]
        }
      ]
    },
    {
      "cell_type": "code",
      "source": [
        "result"
      ],
      "metadata": {
        "colab": {
          "base_uri": "https://localhost:8080/"
        },
        "id": "sfZNUEGbwI_b",
        "outputId": "461ae39b-7fe4-4e38-a175-5a4d1e3f47c6"
      },
      "id": "sfZNUEGbwI_b",
      "execution_count": 15,
      "outputs": [
        {
          "output_type": "execute_result",
          "data": {
            "text/plain": [
              "CrewOutput(raw=\"1. Checkfirst's AI transforms remote audits, making them quicker and smarter with $1.5M funding.\\n2. Altera's AI players, backed by Eric Schmidt, bring $9M to redefine gaming with smarter challenges.\\n3. Google DeepMind's AlphaFold unveils a game-changing update, speeding up drug discovery with its proteomics service.\", pydantic=None, json_dict=None, tasks_output=[TaskOutput(description='Conduct a comprehensive analysis of the latest advancements in AI in 2024.\\n  Identify key trends, breakthrough technologies, and potential industry impacts.\\n  Your final answer MUST be a full analysis report', name=None, expected_output='Create key points list for each news', summary='Conduct a comprehensive analysis of the latest advancements in AI...', raw=\"After analyzing the recent articles on AI advancements in 2024, the following key points were identified:\\n\\n1. **Checkfirst's Application of AI in Remote Inspections and Audits**\\n   - **Trend/Technology:** Checkfirst has raised $1.5 million in pre-seed funding to leverage AI for enhancing remote inspections and audits. This reflects a growing trend of applying AI to streamline and improve the efficiency of regulatory and compliance processes.\\n   - **Impact:** This development could significantly impact industries requiring regular inspections and audits by reducing the time and resources needed for these activities and potentially increasing their accuracy and reliability.\\n\\n2. **Altera's Game-Playing AI Agents**\\n   - **Trend/Technology:** Altera has introduced AI-based autonomous players into gaming, backed by Eric Schmidt and other investors, with a $9 million oversubscribed seed round. This represents an evolution in gaming AI, moving beyond static bots to more dynamic, intelligent agents.\\n   - **Impact:** The gaming industry could see a revolution in how games are played and experienced, with AI agents offering new challenges and interactions. This could also spur developments in AI that could be applied in other fields, such as simulation and training.\\n\\n3. **Google DeepMind's AlphaFold Update**\\n   - **Trend/Technology:** Google DeepMind's latest update to AlphaFold and the launch of a free proteomics-as-a-service web app marks a significant advancement in AI's role in understanding biological processes.\\n   - **Impact:** This breakthrough has profound implications for the biotech and healthcare industries, potentially accelerating drug discovery and our understanding of diseases at a molecular level.\\n\\nThese developments underscore the rapid pace at which AI is evolving and its increasing application across diverse sectors. From improving operational efficiencies in traditional industries to pushing the boundaries of entertainment and scientific research, AI's role in shaping the future is more prominent than ever.\", pydantic=None, json_dict=None, agent='AI News Searcher', output_format=<OutputFormat.RAW: 'raw'>), TaskOutput(description=\"Using the insights provided, summaries each post of them\\n  highlights the most significant AI advancements.\\n  Your post should be informative yet accessible, catering to a tech-savvy audience.\\n  Make it sound cool, avoid complex words so it doesn't sound like AI.\\n  Your final answer MUST not be the more than 50 words.\", name=None, expected_output='Write a short summary under 50 words for each news Headline seperately', summary='Using the insights provided, summaries each post of them\\n ...', raw=\"1. Checkfirst's AI transforms remote audits, making them quicker and smarter with $1.5M funding.\\n2. Altera's AI players, backed by Eric Schmidt, bring $9M to redefine gaming with smarter challenges.\\n3. Google DeepMind's AlphaFold unveils a game-changing update, speeding up drug discovery with its proteomics service.\", pydantic=None, json_dict=None, agent='Writer', output_format=<OutputFormat.RAW: 'raw'>)], token_usage=UsageMetrics(total_tokens=6890, prompt_tokens=6132, completion_tokens=758, successful_requests=7))"
            ]
          },
          "metadata": {},
          "execution_count": 15
        }
      ]
    },
    {
      "cell_type": "code",
      "source": [],
      "metadata": {
        "id": "k15bRrK8vOAY"
      },
      "id": "k15bRrK8vOAY",
      "execution_count": null,
      "outputs": []
    }
  ],
  "metadata": {
    "kernelspec": {
      "display_name": "Python 3",
      "name": "python3"
    },
    "language_info": {
      "codemirror_mode": {
        "name": "ipython",
        "version": 3
      },
      "file_extension": ".py",
      "mimetype": "text/x-python",
      "name": "python",
      "nbconvert_exporter": "python",
      "pygments_lexer": "ipython3",
      "version": "3.9.6"
    },
    "colab": {
      "provenance": []
    }
  },
  "nbformat": 4,
  "nbformat_minor": 5
}